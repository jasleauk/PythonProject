{
 "cells": [
  {
   "cell_type": "markdown",
   "id": "b357a3c7-8bfb-4224-9e5d-c32f39292a12",
   "metadata": {},
   "source": [
    "# Question 1 \n",
    "\n",
    "Write a program that asks the user how many Fibonacci numbers to generate and then generates them. \n",
    "Take this opportunity to think about how you can use functions. Make sure to ask the user to enter the\n",
    "number of numbers in the sequence to generate (Hint: The Fibonacci sequence is a sequence of numbers\n",
    "where the next number in the sequence is the sum of the previous two numbers in the sequence. The\n",
    "sequence looks like this: 1, 1, 2, 3, 5, 8, 13, …)"
   ]
  },
  {
   "cell_type": "code",
   "execution_count": 177,
   "id": "a703851a-85c9-4872-b27d-f636789784e3",
   "metadata": {},
   "outputs": [
    {
     "name": "stdin",
     "output_type": "stream",
     "text": [
      "How many would you like to see in the Fibonacci sequence?  100\n"
     ]
    },
    {
     "name": "stdout",
     "output_type": "stream",
     "text": [
      "The first 100 calculations of the Fibonacci sequence are: [1, 1, 2, 3, 5, 8, 13, 21, 34, 55, 89, 144, 233, 377, 610, 987, 1597, 2584, 4181, 6765, 10946, 17711, 28657, 46368, 75025, 121393, 196418, 317811, 514229, 832040, 1346269, 2178309, 3524578, 5702887, 9227465, 14930352, 24157817, 39088169, 63245986, 102334155, 165580141, 267914296, 433494437, 701408733, 1134903170, 1836311903, 2971215073, 4807526976, 7778742049, 12586269025, 20365011074, 32951280099, 53316291173, 86267571272, 139583862445, 225851433717, 365435296162, 591286729879, 956722026041, 1548008755920, 2504730781961, 4052739537881, 6557470319842, 10610209857723, 17167680177565, 27777890035288, 44945570212853, 72723460248141, 117669030460994, 190392490709135, 308061521170129, 498454011879264, 806515533049393, 1304969544928657, 2111485077978050, 3416454622906707, 5527939700884757, 8944394323791464, 14472334024676221, 23416728348467685, 37889062373143906, 61305790721611591, 99194853094755497, 160500643816367088, 259695496911122585, 420196140727489673, 679891637638612258, 1100087778366101931, 1779979416004714189, 2880067194370816120, 4660046610375530309, 7540113804746346429, 12200160415121876738, 19740274219868223167, 31940434634990099905, 51680708854858323072, 83621143489848422977, 135301852344706746049, 218922995834555169026, 354224848179261915075]\n"
     ]
    }
   ],
   "source": [
    "question = int(input(\"How many would you like to see in the Fibonacci sequence? \"))\n",
    "\n",
    "def fibonaccisequence(question):\n",
    "    sequence = [1, 1]\n",
    "    \n",
    "    for i in range(2, question):\n",
    "        nextnumber = sequence[-1] + sequence[-2]\n",
    "        sequence.append(nextnumber)\n",
    "    return (sequence)\n",
    "\n",
    "sequence = fibonaccisequence(question)\n",
    "print(f\"The first {question} calculations of the Fibonacci sequence are: {sequence}\")\n"
   ]
  },
  {
   "cell_type": "markdown",
   "id": "9fa25e27-7120-4199-990f-a08104ccd3d4",
   "metadata": {},
   "source": [
    "# Question 2\n",
    "\n",
    "Write a program (using functions!) that asks the user for a long string containing multiple words. Print back to the user the same string, except with the words in backwards order. For example, say I type the string: My name is Michele Then I would see the string: Michele is name My shown back to me."
   ]
  },
  {
   "cell_type": "code",
   "execution_count": 105,
   "id": "ae894a30-dd1a-4434-a87d-dab32ebf4717",
   "metadata": {},
   "outputs": [
    {
     "name": "stdin",
     "output_type": "stream",
     "text": [
      "Please enter a long string containing multiple words:  my m\n"
     ]
    },
    {
     "name": "stdout",
     "output_type": "stream",
     "text": [
      "Original Words: my m\n",
      "Words in backwards order: m my\n"
     ]
    }
   ],
   "source": [
    "def reversefunction():\n",
    "    question = input(\"Please enter a long string containing multiple words: \")\n",
    "\n",
    "    words = question.split()              \n",
    "    reversedwords = words[::-1] \n",
    "    reversedstring = ' '.join(reversedwords)  \n",
    "    print(f\"Original Words: {question}\")\n",
    "    print(f\"Words in backwards order: {reversedstring}\")\n",
    "\n",
    "if __name__ == \"__main__\":\n",
    "    reversefunction()\n"
   ]
  },
  {
   "cell_type": "markdown",
   "id": "faac6650-4067-48e6-9657-147ab42e86d3",
   "metadata": {},
   "source": [
    "# Question 3\n",
    "\n",
    "Ask the user for a string and print out whether this string is a palindrome or not. (A palindrome is a string\n",
    "that reads the same forwards and backwards.)"
   ]
  },
  {
   "cell_type": "code",
   "execution_count": 179,
   "id": "25747778-289c-4aef-9f5b-3755b5637855",
   "metadata": {},
   "outputs": [
    {
     "name": "stdin",
     "output_type": "stream",
     "text": [
      "Please enter a long string containing multiple words:  sajjas\n"
     ]
    },
    {
     "name": "stdout",
     "output_type": "stream",
     "text": [
      "Original Words: sajjas\n",
      "Words in backwards order: sajjas\n",
      "These words are a palindrome.\n"
     ]
    }
   ],
   "source": [
    "def palindrome(letters):\n",
    "    breakdownpalindrome = ''.join(letters.split()).lower()\n",
    "    return (breakdownpalindrome == breakdownpalindrome[::-1])\n",
    "    \n",
    "def reversefunction():\n",
    "    question = input(\"Please enter a long string containing multiple words: \")\n",
    "    \n",
    "    words = question.split()              \n",
    "    reversedwords = words[::-1] \n",
    "    reversedstring = ' '.join(reversedwords)  \n",
    "    print(f\"Original Words: {question}\")\n",
    "    print(f\"Words in backwards order: {reversedstring}\")\n",
    "\n",
    "    if palindrome(question):\n",
    "        print(\"These words are a palindrome.\")\n",
    "    else:\n",
    "        print(\"These words are NOT a palindrome.\")\n",
    "\n",
    "if __name__ == \"__main__\":\n",
    "    reversefunction()\n"
   ]
  },
  {
   "cell_type": "markdown",
   "id": "3f40ad0e-d853-425a-bfdf-b1dc9a2b81de",
   "metadata": {},
   "source": [
    "# Question 4\n",
    "\n",
    "For this exercise, we will keep track of when our friend’s birthdays are, and be able to find that information\n",
    "based on their name. Create a dictionary (in your file) of names and birthdays. When you run your program,\n",
    "it should ask the user to enter a name, and return the birthday of that person back to them. The interaction\n",
    "should look something like this: >>> Welcome to the birthday dictionary. We know the birthdays of: Albert\n",
    "Einstein Benjamin Franklin Ada Lovelace >>> Whose birthday do you want to look up? Benjamin Franklin\n",
    "\n",
    "Benjamin Franklin's birthday is 01/17/1706"
   ]
  },
  {
   "cell_type": "code",
   "execution_count": 503,
   "id": "c0d77767-63da-4942-825b-3cde3fb71a9f",
   "metadata": {},
   "outputs": [
    {
     "name": "stdout",
     "output_type": "stream",
     "text": [
      "Welcome\n",
      "We know the birthdays of the following people:\n",
      "Albert Einstein\n",
      "Benjamin Fanklin\n",
      "Ada Lovelace\n",
      "James Arthur\n",
      "Adeko Smith\n",
      "William Freddie\n",
      "Julie Freddie\n",
      "Jenny Smith\n"
     ]
    },
    {
     "name": "stdin",
     "output_type": "stream",
     "text": [
      "Whose birthday would you like to search for?  Benjamin Fanklin\n"
     ]
    },
    {
     "name": "stdout",
     "output_type": "stream",
     "text": [
      "Benjamin Fanklin's birthday is 04/17/1706\n"
     ]
    }
   ],
   "source": [
    "def serachingdatabase(namequestion, birthdaydatabase):\n",
    "    if namequestion in birthdaydatabase:\n",
    "        return (f\"{namequestion}'s birthday is {birthdaydatabase[namequestion]}\")\n",
    "    else:\n",
    "        return (f\"Sorry, we don't have information for {namequestion}.\")\n",
    "\n",
    "def mainfunction():\n",
    "\n",
    "    birthdaydatabase = {\n",
    "        \"Albert Einstein\": \"02/01/1999\",\n",
    "        \"Benjamin Fanklin\": \"04/17/1706\",\n",
    "        \"Ada Lovelace\": \"12/03/1955\",\n",
    "        \"James Arthur\": \"01/01/1995\",\n",
    "        \"Adeko Smith\": \"01/02/1980\",\n",
    "        \"William Freddie\": \"12/03/1975\",\n",
    "        \"Julie Freddie\": \"02/03/1965\",\n",
    "        \"Jenny Smith\": \"11/02/1920\",\n",
    "    }\n",
    "    \n",
    "    print(\"Welcome\")\n",
    "    print(\"We know the birthdays of the following people:\")\n",
    "    for namequestion in birthdaydatabase:\n",
    "        print(namequestion)\n",
    "    \n",
    "    namequestion = input(\"Whose birthday would you like to search for? \")\n",
    "\n",
    "    answer = serachingdatabase(namequestion, birthdaydatabase)\n",
    "    print(answer)\n",
    "\n",
    "if __name__ == \"__main__\":\n",
    "    mainfunction()\n"
   ]
  },
  {
   "cell_type": "markdown",
   "id": "99bc4e4b-cac0-4f8e-ab7a-8544c3cd30bd",
   "metadata": {},
   "source": [
    "# Question 5\n",
    "\n",
    "Use the BeautifulSoup and requests Python packages to print out a list of all the article titles on the New\n",
    "York Times homepage."
   ]
  },
  {
   "cell_type": "code",
   "execution_count": 430,
   "id": "c85b55b7-80e4-44bf-b937-ca39763374b9",
   "metadata": {},
   "outputs": [
    {
     "data": {
      "text/plain": [
       "[<p class=\"indicate-hover css-mqqhto\">Middle East Crisis</p>,\n",
       " <p class=\"indicate-hover css-mqqhto\">U.S. Presidential Race</p>,\n",
       " <p class=\"indicate-hover css-mqqhto\">U.S. Open</p>,\n",
       " <p class=\"indicate-hover css-1gg6cw2\">Brief Labor Strike in Israel Lays Bare Anger Over Hostage Killings</p>,\n",
       " <p class=\"indicate-hover css-1a5fuvt\">President Biden said Prime Minister Benjamin Netanyahu of Israel was not doing enough to free the hostages held in Gaza.</p>,\n",
       " <p class=\"indicate-hover css-1a5fuvt\">A union that predates Israel’s founding was behind the strike. It has a long history of influence.</p>,\n",
       " <p class=\"indicate-hover css-1a5fuvt\">This is what we know about the six hostages who were killed in Gaza.</p>,\n",
       " <p class=\"indicate-hover css-91bpc3\">‘Moving in the Dark’: Hamas Handbook Shows Tunnel Battle Strategy</p>,\n",
       " <p class=\"indicate-hover css-91bpc3\">Democrats Court Union Voters With a Labor Day Lineup</p>,\n",
       " <p class=\"indicate-hover css-91bpc3\">Assessing JD Vance’s Appeals to the Middle Class on the Campaign Trail</p>,\n",
       " <p class=\"indicate-hover css-1a5fuvt\">President Biden has spent the past two weeks secluded in California and Delaware as his tumultuous summer ends.</p>,\n",
       " <p class=\"indicate-hover css-91bpc3\">Fraternity Brothers Balk at a $515,000 Party for Defending the Flag</p>,\n",
       " <p class=\"indicate-hover css-91bpc3\">As War Rages, a Ukrainian Teacher Asks Her Class: ‘What Changed Inside You?’</p>,\n",
       " <p class=\"indicate-hover css-1a5fuvt\">Russia hit Ukraine with a wave of strikes on Monday, the first day of the school year.</p>,\n",
       " <p class=\"indicate-hover css-91bpc3\">France Confronts Horror of Rape and Drugging Case as 51 Men Go on Trial</p>,\n",
       " <p class=\"indicate-hover css-4blv3u\">Dragons and Sharks on a Beach Near You: The Story of the Great Lego Spill</p>,\n",
       " <p class=\"indicate-hover css-91bpc3\">In a Scenic California Town, Worsening Landslides Force Power Shut-Offs</p>,\n",
       " <p class=\"indicate-hover css-91bpc3\">‘Pinnacle Man,’ Found in Cave Nearly 50 Years Ago, Has Been Identified</p>,\n",
       " <p class=\"indicate-hover css-4blv3u\">Was This the Summer European Tourism Reached a Breaking Point?</p>,\n",
       " <p class=\"indicate-hover css-91bpc3\">Climate Change Can Cause Bridges to ‘Fall Apart Like Tinkertoys,’ Experts Say</p>,\n",
       " <p class=\"indicate-hover css-91bpc3\">The U.S. Open Is Busier Than Ever. Some Fans Are Not Happy About It.</p>,\n",
       " <p class=\"indicate-hover css-1a5fuvt\">Follow the fourth round action with Iga Swiatek and Jannik Sinner headlining a busy Day 8.</p>,\n",
       " <p class=\"indicate-hover css-uzitgk\">This Is Not What Trump Had in Mind</p>,\n",
       " <p class=\"indicate-hover css-uzitgk\">I Paid My Kid $100 to Read a Book. You Should, Too.</p>,\n",
       " <p class=\"indicate-hover css-uzitgk\">I’m a College President. My Views on Campus Protests Might Surprise You.</p>,\n",
       " <p class=\"indicate-hover css-uzitgk\">We Can Fix the Housing Crisis by Looking at How We Raised the Legal Drinking Age</p>,\n",
       " <p class=\"indicate-hover css-uzitgk\">Our Son Was Taken 331 Days Ago. Our Hope Is Running Out.</p>,\n",
       " <p class=\"indicate-hover css-uzitgk\">Trump Said Democrats Will Take Away Your Hamburgers. He’s the One Who Might.</p>,\n",
       " <p class=\"indicate-hover css-uzitgk\">In a Brutal Summer, Miracles Still Bloom</p>,\n",
       " <p class=\"indicate-hover css-uzitgk\">The Household Chores You’re Avoiding Are Key to a Deeper Life</p>,\n",
       " <p class=\"indicate-hover css-kaomn7\">At Summer’s End, a Kind of Grief</p>,\n",
       " <p class=\"indicate-hover css-kaomn7\">‘Joy’ Is a Euphemism for a Word No One Wants to Say Out Loud</p>,\n",
       " <p class=\"indicate-hover css-kaomn7\">Young Americans Can’t Keep Funding Boomers and Beyond</p>,\n",
       " <p class=\"indicate-hover css-kaomn7\">Trump Tried to Humanize Himself. Better Luck Next Time.</p>,\n",
       " <p class=\"indicate-hover css-kaomn7\">A Daring Approach for Mental Illness</p>,\n",
       " <p class=\"indicate-hover css-kaomn7\">The Loneliness Epidemic Has a Cure</p>,\n",
       " <p class=\"indicate-hover css-kaomn7\">The Cass Report: Biased or Balanced?</p>,\n",
       " <p class=\"indicate-hover css-kaomn7\">I Swore Off Air-Conditioning, and You Can, Too</p>,\n",
       " <p class=\"indicate-hover css-1a5fuvt\">The Connections Bot</p>,\n",
       " <p class=\"indicate-hover css-91bpc3\">A Summer Camp for Deaf Children Lost Its Leader, but Still Brings Joy</p>,\n",
       " <p class=\"indicate-hover css-91bpc3\">A Funnel Cake Macchiato, Anyone? The Coffee Wars Are Heating Up.</p>,\n",
       " <p class=\"indicate-hover css-91bpc3\">Musk’s Starlink Defies Order to Block X in Brazil</p>,\n",
       " <p class=\"indicate-hover css-91bpc3\">In New York, Schools Are Reclaiming Roads for Recess</p>,\n",
       " <p class=\"indicate-hover css-6l658f\">A Finnish Artist and the Apartment and Paintings She Left Behind in SoHo</p>,\n",
       " <p class=\"summary-class css-17sbsu2 indicate-hover\">A gallery in Manhattan will display abstract works of Iria Leino, a pioneer in New York in the ’60s and a mystery to many in the art world.</p>,\n",
       " <p class=\"indicate-hover css-1a5fuvt\">Wordle</p>,\n",
       " <p class=\"indicate-hover css-1a5fuvt\">Strands</p>,\n",
       " <p class=\"indicate-hover css-1a5fuvt\">Connections</p>,\n",
       " <p class=\"indicate-hover css-1a5fuvt\">Connections Companion</p>,\n",
       " <p class=\"indicate-hover css-1a5fuvt\">Spelling Bee</p>,\n",
       " <p class=\"indicate-hover css-1a5fuvt\">The Crossword</p>]"
      ]
     },
     "execution_count": 430,
     "metadata": {},
     "output_type": "execute_result"
    }
   ],
   "source": [
    "import requests\n",
    "from bs4 import BeautifulSoup\n",
    "\n",
    "url  = 'https://www.nytimes.com/international/'\n",
    "\n",
    "html_doc = response.text\n",
    "response = requests.get(url)\n",
    "response.status_code\n",
    "\n",
    "soup = BeautifulSoup(html_doc, 'html.parser')\n",
    "soup.p\n",
    "\n",
    "\n",
    "titles = soup.find_all(name='p',class_= 'indicate-hover')\n",
    "titles\n",
    "\n"
   ]
  },
  {
   "cell_type": "markdown",
   "id": "ba4bd1b4-fbf8-416c-9f7e-5db1e9984626",
   "metadata": {},
   "source": [
    "# Question 6\n",
    "\n",
    "Take the code from the question 5 and instead of printing the results to a screen, write the results to a txt\n",
    "file. In your code, just make up a name for the file you are saving to."
   ]
  },
  {
   "cell_type": "code",
   "execution_count": 508,
   "id": "87ca3f9b-f336-4865-a4b8-361a9e1bf081",
   "metadata": {},
   "outputs": [],
   "source": [
    "import requests\n",
    "from bs4 import BeautifulSoup\n",
    "\n",
    "url  = 'https://www.nytimes.com/international/'\n",
    "\n",
    "html_doc = response.text\n",
    "response = requests.get(url)\n",
    "response.status_code\n",
    "\n",
    "soup = BeautifulSoup(html_doc, 'html.parser')\n",
    "soup.p\n",
    "\n",
    "\n",
    "titles = soup.find_all(name='p',class_= 'indicate-hover')\n",
    "titles\n",
    "\n",
    "titleslisted = []\n",
    "\n",
    "for i in titles:\n",
    "    titleslisted.append(i.get_text())\n",
    "\n",
    "def file_handler(text_name, title_list):\n",
    "    with open(f'{text_name}.txt', 'w', encoding='utf=8') as file:\n",
    "        for titles in title_list:\n",
    "            file.write(f'{titles}\\n')\n",
    "\n",
    "file_handler('NewYorkTimesTitles', titleslisted)"
   ]
  },
  {
   "cell_type": "code",
   "execution_count": null,
   "id": "baf2a4c6-5f75-4a0a-a6fb-2beb26f5a1ee",
   "metadata": {},
   "outputs": [],
   "source": []
  }
 ],
 "metadata": {
  "kernelspec": {
   "display_name": "Python 3 (ipykernel)",
   "language": "python",
   "name": "python3"
  },
  "language_info": {
   "codemirror_mode": {
    "name": "ipython",
    "version": 3
   },
   "file_extension": ".py",
   "mimetype": "text/x-python",
   "name": "python",
   "nbconvert_exporter": "python",
   "pygments_lexer": "ipython3",
   "version": "3.12.4"
  }
 },
 "nbformat": 4,
 "nbformat_minor": 5
}
