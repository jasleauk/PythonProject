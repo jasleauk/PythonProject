{
 "cells": [
  {
   "cell_type": "markdown",
   "id": "77a5421e-4a8a-4e99-9ce6-366ed2925b75",
   "metadata": {},
   "source": [
    "## The Dataset contains historical sales data for 45 Amazon stores "
   ]
  },
  {
   "cell_type": "markdown",
   "id": "1776a765-beab-4f85-80f9-7b60b03a9466",
   "metadata": {},
   "source": [
    "## Cleaning The Data - "
   ]
  },
  {
   "cell_type": "markdown",
   "id": "f4b9165d-855e-406c-9bb0-8b695eaf0918",
   "metadata": {},
   "source": [
    "## I have removed all the duplicate or irrelevant columns to the questions below."
   ]
  },
  {
   "cell_type": "code",
   "execution_count": 265,
   "id": "54b95560-0fe3-45c1-b131-1c7dc58771d1",
   "metadata": {},
   "outputs": [
    {
     "name": "stdout",
     "output_type": "stream",
     "text": [
      "All duplicate rows have been removed and the new dataset has been saved as 'filtered_dataset.csv'\n"
     ]
    }
   ],
   "source": [
    "filelocation = 'amazon_sales_dataset.csv'\n",
    "\n",
    "with open(filelocation, 'r') as file:\n",
    "    lines = file.readlines()\n",
    "\n",
    "header = lines[0]\n",
    "\n",
    "rows = lines[1:]\n",
    "\n",
    "uniquerows = set()\n",
    "\n",
    "filteredrows = [header]  \n",
    "for row in rows:\n",
    "    if row not in uniquerows:\n",
    "        uniquerows.add(row)\n",
    "        filteredrows.append(row)\n",
    "\n",
    "with open('filtered_dataset.csv', 'w') as file:\n",
    "    for row in filteredrows:\n",
    "        file.write(row)\n",
    "\n",
    "print(\"All duplicate rows have been removed and the new dataset has been saved as 'filtered_dataset.csv'\")\n"
   ]
  },
  {
   "cell_type": "markdown",
   "id": "9c7482cb-05ac-42c8-9e48-fa8c4b29363b",
   "metadata": {},
   "source": [
    "## Question 1 - What holiday generally does the stores experience high sales?"
   ]
  },
  {
   "cell_type": "code",
   "execution_count": 304,
   "id": "76bf935e-0686-42d1-aefe-b4c9197c8b06",
   "metadata": {},
   "outputs": [
    {
     "name": "stdout",
     "output_type": "stream",
     "text": [
      "The period with the highest sales occurred in November, 2019, with sales amounting to: £39842434.17\n"
     ]
    }
   ],
   "source": [
    "filelocation = 'filtered_dataset.csv'\n",
    "\n",
    "with open(filelocation, 'r') as file:\n",
    "    lines = file.readlines()\n",
    "\n",
    "header = lines[0].strip().split(',')\n",
    "rows = [line.strip().split(',') for line in lines[1:]]\n",
    "\n",
    "yearidx = header.index('Year')\n",
    "monthidx = header.index('Month')\n",
    "weekidx = header.index('Week')\n",
    "isholidayidx = header.index('IsHoliday')\n",
    "weeklysalesidx = header.index('Weekly_Sales')\n",
    "\n",
    "holidaysales = [\n",
    "    row for row in rows if row[isholidayidx] == '1'\n",
    "]\n",
    "\n",
    "salesbyyearmonthweek = {}\n",
    "\n",
    "for row in holidaysales:\n",
    "    year = row[yearidx]\n",
    "    month = row[monthidx]\n",
    "    week = row[weekidx]\n",
    "    weeklysales = float(row[weeklysalesidx])\n",
    "    \n",
    "    key = (year, month, week)\n",
    "    \n",
    "    if key not in salesbyyearmonthweek:\n",
    "        salesbyyearmonthweek[key] = 0\n",
    "    \n",
    "    salesbyyearmonthweek[key] += weeklysales\n",
    "\n",
    "highestsalesperiod = max(salesbyyearmonthweek, key=salesbyyearmonthweek.get)\n",
    "highestsalesvalue = salesbyyearmonthweek[highestsalesperiod]\n",
    "\n",
    "months = [\"January\", \"February\", \"March\", \"April\", \"May\", \"June\", \n",
    "          \"July\", \"August\", \"September\", \"October\", \"November\", \"December\"]\n",
    "\n",
    "year, month, week = highestsalesperiod\n",
    "monthname = months[int(month) - 1]  \n",
    "\n",
    "print(f\"The period with the highest sales occurred in {monthname}, {year}, with sales amounting to: £{highestsalesvalue:.2f}\")\n"
   ]
  },
  {
   "cell_type": "markdown",
   "id": "3cd522a0-9e92-4475-921c-1d953759cfce",
   "metadata": {},
   "source": [
    "## Question 2 - Comparing the Holiday and non-holiday seasons, which season generally does better in sales?"
   ]
  },
  {
   "cell_type": "code",
   "execution_count": 1,
   "id": "ca05b1ef-4b3a-4cab-b722-064180526b17",
   "metadata": {},
   "outputs": [
    {
     "name": "stderr",
     "output_type": "stream",
     "text": [
      "C:\\Users\\Admin\\AppData\\Local\\Temp\\ipykernel_7156\\2283844948.py:17: FutureWarning: Series.__getitem__ treating keys as positions is deprecated. In a future version, integer keys will always be treated as labels (consistent with DataFrame behavior). To access a value by position, use `ser.iloc[pos]`\n",
      "  isHoliday = int(row[isHolidayIdx])  # Check if it's a holiday week\n",
      "C:\\Users\\Admin\\AppData\\Local\\Temp\\ipykernel_7156\\2283844948.py:18: FutureWarning: Series.__getitem__ treating keys as positions is deprecated. In a future version, integer keys will always be treated as labels (consistent with DataFrame behavior). To access a value by position, use `ser.iloc[pos]`\n",
      "  weeklySales = float(row[weeklySalesIdx])  # Get the weekly sales\n"
     ]
    },
    {
     "name": "stdout",
     "output_type": "stream",
     "text": [
      "Total sales during Non-Holiday season: £4,592,798,600.28\n",
      "Total sales during Holiday season: £294,377,011.79\n",
      "The non-holiday season generally has higher sales.\n"
     ]
    },
    {
     "data": {
      "image/png": "[encoded data removed]",
      "text/plain": [
       "<Figure size 800x500 with 1 Axes>"
      ]
     },
     "metadata": {},
     "output_type": "display_data"
    }
   ],
   "source": [
    "filelocation = 'filtered_dataset.csv'\n",
    "\n",
    "with open(filelocation, 'r') as file:\n",
    "    lines = file.readlines()\n",
    "\n",
    "header = lines[0].strip().split(',')\n",
    "rows = [line.strip().split(',') for line in lines[1:]]\n",
    "\n",
    "isHolidayIdx = header.index('IsHoliday')\n",
    "weeklySalesIdx = header.index('Weekly_Sales')\n",
    "\n",
    "salesBySeason = {0: 0, 1: 0}  \n",
    "\n",
    "for row in rows:\n",
    "    isHoliday = int(row[isHolidayIdx])\n",
    "    weeklySales = float(row[weeklySalesIdx])\n",
    "    \n",
    "    if isHoliday in salesBySeason:\n",
    "        salesBySeason[isHoliday] += weeklySales\n",
    "\n",
    "for isHoliday, totalSales in salesBySeason.items():\n",
    "    season = 'Holiday' if isHoliday == 1 else 'Non-Holiday'\n",
    "    print(f\"Total sales during {season} season: £{totalSales:,.2f}\")\n",
    "\n",
    "nonHolidaySales = salesBySeason[0]\n",
    "holidaySales = salesBySeason[1]\n",
    "\n",
    "if nonHolidaySales > holidaySales:\n",
    "    print(\"The non-holiday season generally has higher sales.\")\n",
    "else:\n",
    "    print(\"The holiday season generally has higher sales.\")\n"
   ]
  },
  {
   "cell_type": "markdown",
   "id": "dde5861b-93d9-4522-addf-55b81172b8ef",
   "metadata": {},
   "source": [
    "## Question 3 - Which store has the highest sales so far? "
   ]
  },
  {
   "cell_type": "code",
   "execution_count": 293,
   "id": "f96e61ad-ace7-4ef3-b91a-8c684d91be72",
   "metadata": {},
   "outputs": [
    {
     "name": "stdout",
     "output_type": "stream",
     "text": [
      "The period with the highest sales occurred in November, 2019, with sales amounting to: £39842434.17\n"
     ]
    }
   ],
   "source": [
    "filelocation = 'filtered_dataset.csv'\n",
    "\n",
    "with open(filelocation, 'r') as file:\n",
    "    lines = file.readlines()\n",
    "\n",
    "header = lines[0].strip().split(',')\n",
    "rows = [line.strip().split(',') for line in lines[1:]]\n",
    "\n",
    "yearIdx = header.index('Year')\n",
    "monthIdx = header.index('Month')\n",
    "weekIdx = header.index('Week')\n",
    "isHolidayIdx = header.index('IsHoliday')\n",
    "weeklySalesIdx = header.index('Weekly_Sales')\n",
    "\n",
    "holidaySales = [\n",
    "    row for row in rows \n",
    "    if row[isHolidayIdx] == '1'\n",
    "]\n",
    "\n",
    "salesData = {}\n",
    "for row in holidaySales:\n",
    "    year = row[yearIdx]\n",
    "    month = row[monthIdx]\n",
    "    week = row[weekIdx]\n",
    "    weeklySales = float(row[weeklySalesIdx])\n",
    "    \n",
    "    key = (year, month, week)\n",
    "    \n",
    "    if key not in salesData:\n",
    "        salesData[key] = 0\n",
    "    salesData[key] += weeklySales\n",
    "\n",
    "highestSalesPeriod = max(salesData, key=salesData.get)\n",
    "highestSalesValue = salesData[highestSalesPeriod]\n",
    "\n",
    "months = [\"January\", \"February\", \"March\", \"April\", \"May\", \"June\", \n",
    "          \"July\", \"August\", \"September\", \"October\", \"November\", \"December\"]\n",
    "\n",
    "year, month, week = highestSalesPeriod\n",
    "monthName = months[int(month) - 1]  \n",
    "\n",
    "print(f\"The period with the highest sales occurred in {monthName}, {year}, with sales amounting to: £{highestSalesValue:.2f}\")\n"
   ]
  },
  {
   "cell_type": "markdown",
   "id": "d35b7b60-07ed-4789-a4f5-85d30ab78d0c",
   "metadata": {},
   "source": [
    "## \tQuestion 4 - What year did each store experience the most sales?"
   ]
  },
  {
   "cell_type": "code",
   "execution_count": 295,
   "id": "59758b8a-d3f1-478f-a5ec-21a64cca07d4",
   "metadata": {},
   "outputs": [
    {
     "name": "stdout",
     "output_type": "stream",
     "text": [
      "Store | Year | TotalSales\n",
      "1 | 2020 | £55090393.70\n",
      "9 | 2020 | £24049626.84\n",
      "8 | 2020 | £45458358.82\n",
      "4 | 2020 | £61717893.42\n",
      "5 | 2020 | £16302556.76\n",
      "14 | 2020 | £56690184.75\n",
      "6 | 2020 | £61810500.00\n",
      "3 | 2020 | £15145811.55\n",
      "20 | 2019 | £58389072.45\n",
      "19 | 2019 | £54482347.32\n",
      "18 | 2019 | £50029601.02\n",
      "42 | 2020 | £25438649.28\n",
      "13 | 2019 | £57286722.18\n",
      "10 | 2019 | £60181541.24\n",
      "11 | 2020 | £57652712.47\n",
      "16 | 2020 | £25887257.54\n",
      "17 | 2019 | £39562984.29\n",
      "15 | 2020 | £31016132.42\n",
      "44 | 2020 | £15498541.35\n",
      "45 | 2020 | £39570054.15\n",
      "43 | 2020 | £26528579.46\n",
      "22 | 2019 | £47726759.68\n",
      "21 | 2020 | £39562687.61\n",
      "23 | 2020 | £61491362.78\n",
      "24 | 2019 | £53709909.26\n",
      "25 | 2019 | £34658600.32\n",
      "27 | 2019 | £59934055.99\n",
      "2 | 2019 | £59183348.33\n",
      "32 | 2020 | £48587827.46\n",
      "39 | 2020 | £56177882.85\n",
      "29 | 2020 | £26865470.67\n",
      "31 | 2020 | £47424659.88\n",
      "40 | 2020 | £42325622.66\n",
      "30 | 2020 | £21956357.18\n",
      "37 | 2020 | £25567046.11\n",
      "36 | 2019 | £20770502.46\n",
      "33 | 2020 | £12957867.37\n",
      "34 | 2020 | £46966624.53\n",
      "35 | 2019 | £46849732.75\n",
      "41 | 2020 | £49810440.80\n",
      "7 | 2020 | £25804530.27\n",
      "26 | 2019 | £37999585.21\n",
      "38 | 2021 | £16746817.08\n",
      "28 | 2021 | £40856847.66\n",
      "12 | 2021 | £34735949.59\n"
     ]
    }
   ],
   "source": [
    "filelocation = 'filtered_dataset.csv'\n",
    "\n",
    "with open(filelocation, 'r') as file:\n",
    "    lines = file.readlines()\n",
    "\n",
    "header = lines[0].strip().split(',')\n",
    "rows = [line.strip().split(',') for line in lines[1:]]\n",
    "\n",
    "storeIndex = header.index('Store')\n",
    "yearIndex = header.index('Year')\n",
    "weeklySalesIndex = header.index('Weekly_Sales')\n",
    "\n",
    "salesByStoreYear = {}\n",
    "\n",
    "for row in rows:\n",
    "    store = row[storeIndex]\n",
    "    year = row[yearIndex]\n",
    "    weeklySales = float(row[weeklySalesIndex])\n",
    "    \n",
    "    if store not in salesByStoreYear:\n",
    "        salesByStoreYear[store] = {}\n",
    "    \n",
    "    if year not in salesByStoreYear[store]:\n",
    "        salesByStoreYear[store][year] = 0\n",
    "    \n",
    "    salesByStoreYear[store][year] += weeklySales\n",
    "\n",
    "maxSalesByStore = {}\n",
    "\n",
    "for store, years in salesByStoreYear.items():\n",
    "    maxYear = max(years, key=years.get)\n",
    "    maxSalesByStore[store] = (maxYear, years[maxYear])\n",
    "\n",
    "print(\"Store | Year | TotalSales\")\n",
    "for store, (year, totalSales) in maxSalesByStore.items():\n",
    "    print(f\"{store} | {year} | £{totalSales:.2f}\")\n"
   ]
  },
  {
   "cell_type": "markdown",
   "id": "b5be1d43-51b6-4cdd-96e5-0d80f252ec7c",
   "metadata": {},
   "source": [
    "## Question 5 -Analyse the unemployment rate and customer price"
   ]
  },
  {
   "cell_type": "code",
   "execution_count": 299,
   "id": "e437e411-f697-4bc0-a715-0767d92aa149",
   "metadata": {},
   "outputs": [
    {
     "name": "stdout",
     "output_type": "stream",
     "text": [
      "Average Unemployment Rate: 7.70%\n",
      "Average Customer Price: £173.42\n",
      "If the unemployment rate INCREASES, then the Customer Price DECREASES\n"
     ]
    }
   ],
   "source": [
    "filelocation = 'filtered_dataset.csv'\n",
    "\n",
    "with open(filelocation, 'r') as file:\n",
    "    lines = file.readlines()\n",
    "\n",
    "header = lines[0].strip().split(',')\n",
    "rows = [line.strip().split(',') for line in lines[1:]]\n",
    "\n",
    "dateIndex = header.index('Date')\n",
    "unemploymentRateIndex = header.index('Unemployment')\n",
    "customerPriceIndex = header.index('CPI')\n",
    "\n",
    "dates = []\n",
    "unemploymentRates = []\n",
    "customerPrices = []\n",
    "\n",
    "for row in rows:\n",
    "    dates.append(row[dateIndex])\n",
    "    unemploymentRates.append(float(row[unemploymentRateIndex]))\n",
    "    customerPrices.append(float(row[customerPriceIndex]))\n",
    "\n",
    "avgUnemploymentRate = sum(unemploymentRates) / len(unemploymentRates)\n",
    "avgCustomerPrice = sum(customerPrices) / len(customerPrices)\n",
    "\n",
    "def calculateTrend(data):\n",
    "    if len(data) < 2:\n",
    "        return 0\n",
    "    return (data[-1] - data[0]) / len(data)\n",
    "\n",
    "unemploymentTrend = calculateTrend(unemploymentRates)\n",
    "priceTrend = calculateTrend(customerPrices)\n",
    "\n",
    "print(f\"Average Unemployment Rate: {avgUnemploymentRate:.2f}%\")\n",
    "print(f\"Average Customer Price: £{avgCustomerPrice:.2f}\")\n",
    "print(f\"If the unemployment rate {'INCREASES' if unemploymentTrend > 0 else 'DECREASES' if unemploymentTrend < 0 else 'STAYS STABLE'}, then the Customer Price {'INCREASES' if priceTrend > 0 else 'DECREASES' if priceTrend < 0 else 'STAYS STABLE'}\")\n"
   ]
  },
  {
   "cell_type": "code",
   "execution_count": null,
   "id": "8e72d985-21fe-4007-ab5e-1888ee44cf51",
   "metadata": {},
   "outputs": [],
   "source": []
  }
 ],
 "metadata": {
  "kernelspec": {
   "display_name": "Python 3 (ipykernel)",
   "language": "python",
   "name": "python3"
  },
  "language_info": {
   "codemirror_mode": {
    "name": "ipython",
    "version": 3
   },
   "file_extension": ".py",
   "mimetype": "text/x-python",
   "name": "python",
   "nbconvert_exporter": "python",
   "pygments_lexer": "ipython3",
   "version": "3.12.4"
  }
 },
 "nbformat": 4,
 "nbformat_minor": 5
}
